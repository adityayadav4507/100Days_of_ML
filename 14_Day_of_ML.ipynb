{
  "nbformat": 4,
  "nbformat_minor": 0,
  "metadata": {
    "colab": {
      "provenance": [],
      "authorship_tag": "ABX9TyO2JWc32zHgEvxmfdBLETi2",
      "include_colab_link": true
    },
    "kernelspec": {
      "name": "python3",
      "display_name": "Python 3"
    },
    "language_info": {
      "name": "python"
    }
  },
  "cells": [
    {
      "cell_type": "markdown",
      "metadata": {
        "id": "view-in-github",
        "colab_type": "text"
      },
      "source": [
        "<a href=\"https://colab.research.google.com/github/adityayadav4507/100Days_of_ML/blob/main/14_Day_of_ML.ipynb\" target=\"_parent\"><img src=\"https://colab.research.google.com/assets/colab-badge.svg\" alt=\"Open In Colab\"/></a>"
      ]
    },
    {
      "cell_type": "markdown",
      "source": [
        "# Frame the problem\n"
      ],
      "metadata": {
        "id": "Q0iVSwD77qwB"
      }
    },
    {
      "cell_type": "markdown",
      "source": [
        "1.convert business problem into ML problem"
      ],
      "metadata": {
        "id": "mixwZAFAD87A"
      }
    },
    {
      "cell_type": "markdown",
      "source": [
        "\n",
        "\n",
        "> Netflix wants to increase its Revenue solution is reduce the number of coustomer which left the platform .\n",
        ">we create the Model which predict the which coustomer left the platform in Future\n",
        "\n",
        "\n",
        "\n"
      ],
      "metadata": {
        "id": "Y4J7VVWgELQs"
      }
    },
    {
      "cell_type": "markdown",
      "source": [
        "2. find the type of problem\n"
      ],
      "metadata": {
        "id": "JrtowAkFEFx4"
      }
    },
    {
      "cell_type": "markdown",
      "source": [
        "> it seems like classification problem but it is Regression problem bec , the intensity or probability of left the platfrom is different for different coustomer . every coustomer is different and every coustomer have its own reason of left the platform and decision of left the platfrom is also different ."
      ],
      "metadata": {
        "id": "KtwecgrpE5xx"
      }
    },
    {
      "cell_type": "markdown",
      "source": [
        "3. current solution\n"
      ],
      "metadata": {
        "id": "lb_140sCGbsq"
      }
    },
    {
      "cell_type": "markdown",
      "source": [
        "> talk to other team and find the current solution . such as we have a Model which can predict the chrunk rate(probability of left the platform in future)\n",
        "we build on top of this work"
      ],
      "metadata": {
        "id": "71ZD9su_GiOZ"
      }
    },
    {
      "cell_type": "markdown",
      "source": [
        "4.Getting the Data"
      ],
      "metadata": {
        "id": "jUzJDywXHABF"
      }
    },
    {
      "cell_type": "markdown",
      "source": [
        ">list of factor which decide this probability of chrunk rate .\n",
        "\n",
        "\n",
        "1.   watch time\n",
        "2.   search not found\n",
        "3.   no. of recommendation click\n",
        "4.   content left in middle\n",
        "> go to Data Engineer and he give you the column which you wants\n"
      ],
      "metadata": {
        "id": "OvUNY8UbHFtZ"
      }
    },
    {
      "cell_type": "markdown",
      "source": [
        "5.metrics of Measure\n"
      ],
      "metadata": {
        "id": "uMa6NT-EIhTE"
      }
    },
    {
      "cell_type": "markdown",
      "source": [
        "diecide the parameter to measure the progress of project\n"
      ],
      "metadata": {
        "id": "qJ8arzSjImzr"
      }
    },
    {
      "cell_type": "markdown",
      "source": [
        "6. online or batch"
      ],
      "metadata": {
        "id": "Y1jLrgIt0aCQ"
      }
    },
    {
      "cell_type": "markdown",
      "source": [
        "we decide the online learning bec , volital parameters continously improve the  model"
      ],
      "metadata": {
        "id": "Pbyk5JSa0gvU"
      }
    },
    {
      "cell_type": "markdown",
      "source": [
        "7. check assumption"
      ],
      "metadata": {
        "id": "7C3lMilW1L_y"
      }
    },
    {
      "cell_type": "markdown",
      "source": [
        "check what factor i am considering , is this factor actually effect the system or we need to change the factor according to other factor"
      ],
      "metadata": {
        "id": "D4neDTjF1OU_"
      }
    },
    {
      "cell_type": "code",
      "source": [],
      "metadata": {
        "id": "MSjFTzPxF5ax"
      },
      "execution_count": null,
      "outputs": []
    }
  ]
}