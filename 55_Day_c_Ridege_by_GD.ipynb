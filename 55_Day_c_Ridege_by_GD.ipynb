{
  "nbformat": 4,
  "nbformat_minor": 0,
  "metadata": {
    "colab": {
      "provenance": [],
      "authorship_tag": "ABX9TyO3v1UZoVzyIalIn7m6kvww",
      "include_colab_link": true
    },
    "kernelspec": {
      "name": "python3",
      "display_name": "Python 3"
    },
    "language_info": {
      "name": "python"
    }
  },
  "cells": [
    {
      "cell_type": "markdown",
      "metadata": {
        "id": "view-in-github",
        "colab_type": "text"
      },
      "source": [
        "<a href=\"https://colab.research.google.com/github/adityayadav4507/100Days_of_ML/blob/main/55_Day_c_Ridege_by_GD.ipynb\" target=\"_parent\"><img src=\"https://colab.research.google.com/assets/colab-badge.svg\" alt=\"Open In Colab\"/></a>"
      ]
    },
    {
      "cell_type": "code",
      "execution_count": 98,
      "metadata": {
        "id": "JCVyLHr706vq"
      },
      "outputs": [],
      "source": [
        "from sklearn.datasets import load_diabetes\n",
        "import numpy as np\n",
        "import pandas as pd\n",
        "from sklearn.model_selection import train_test_split\n",
        "from sklearn.linear_model import LinearRegression\n",
        "from sklearn.metrics import r2_score"
      ]
    },
    {
      "cell_type": "code",
      "source": [
        "X,y= load_diabetes(return_X_y=True)\n",
        "X_train,X_test,y_train,y_test=train_test_split(X,y,test_size=0.2,random_state=22)"
      ],
      "metadata": {
        "id": "BTvNcGxV3b7o"
      },
      "execution_count": 99,
      "outputs": []
    },
    {
      "cell_type": "code",
      "source": [
        "from sklearn.linear_model import SGDRegressor\n",
        "reg=SGDRegressor(penalty='l2', max_iter=500,eta0=0.001,learning_rate='constant',alpha=0.001)\n",
        "reg.fit(X_train,y_train)\n",
        "r2_score(y_test,reg.predict(X_test))"
      ],
      "metadata": {
        "colab": {
          "base_uri": "https://localhost:8080/"
        },
        "id": "f5oiHHxo3sFw",
        "outputId": "15cef9a2-8602-4e0f-8d06-b260674f0c5a"
      },
      "execution_count": 100,
      "outputs": [
        {
          "output_type": "stream",
          "name": "stderr",
          "text": [
            "/usr/local/lib/python3.11/dist-packages/sklearn/linear_model/_stochastic_gradient.py:1608: ConvergenceWarning: Maximum number of iteration reached before convergence. Consider increasing max_iter to improve the fit.\n",
            "  warnings.warn(\n"
          ]
        },
        {
          "output_type": "execute_result",
          "data": {
            "text/plain": [
              "0.3779230191041614"
            ]
          },
          "metadata": {},
          "execution_count": 100
        }
      ]
    },
    {
      "cell_type": "code",
      "source": [
        "from sklearn.linear_model import Ridge\n",
        "r=Ridge(alpha=0.001,max_iter=500,solver='sparse_cg') # this sparse solver use Gradient Descent for training\n",
        "r.fit(X_train,y_train)\n",
        "r2_score(y_test,r.predict(X_test))"
      ],
      "metadata": {
        "colab": {
          "base_uri": "https://localhost:8080/"
        },
        "id": "1k7h33HZ4euW",
        "outputId": "19b1629c-0310-4492-be66-2869e92cc1b2"
      },
      "execution_count": 101,
      "outputs": [
        {
          "output_type": "execute_result",
          "data": {
            "text/plain": [
              "0.4804676865063472"
            ]
          },
          "metadata": {},
          "execution_count": 101
        }
      ]
    },
    {
      "cell_type": "code",
      "source": [
        "class meraridge:\n",
        "\n",
        "  def __init__(self,epochs,alpha,learning_rate):\n",
        "    self.learning_rate=learning_rate\n",
        "    self.epochs=epochs\n",
        "    self.alpha=alpha\n",
        "    self.coef_=None\n",
        "    self.intercept_=None\n",
        "\n",
        "  def fit(self,X,y):\n",
        "\n",
        "    self.coef_=np.ones(X.shape[1])\n",
        "    self.intercept_=0\n",
        "    W=np.insert(self.coef_,0,self.intercept_)\n",
        "    X=np.insert(X,0,1,axis=1)\n",
        "\n",
        "    for i in range(self.epochs):\n",
        "      W=W - self.learning_rate*(np.dot((X.T),X).dot(W) - np.dot((X.T),y) + self.alpha*W)\n",
        "\n",
        "    self.coef_=W[1:]\n",
        "    self.intercept_=W[0]\n",
        "    #print(self.intercept_,self.coef_)\n",
        "    a=self.intercept_\n",
        "    b=self.coef_\n",
        "    print(b.reshape(-1,1).shape)\n",
        "    print(a.shape)\n",
        "\n",
        "\n",
        "\n",
        "  def predict(self,X):\n",
        "    return np.dot(X,self.coef_.reshape(-1,1)) + self.intercept_"
      ],
      "metadata": {
        "id": "NZ8-PhFr5IXb"
      },
      "execution_count": 102,
      "outputs": []
    },
    {
      "cell_type": "code",
      "source": [
        "r=meraridge(epochs=500,alpha=0.001,learning_rate=0.001)\n",
        "r.fit(X_train,y_train)"
      ],
      "metadata": {
        "colab": {
          "base_uri": "https://localhost:8080/"
        },
        "id": "d6PyW9CikXPH",
        "outputId": "09876682-ae30-4734-cfb5-c8ea0241d3eb"
      },
      "execution_count": 103,
      "outputs": [
        {
          "output_type": "stream",
          "name": "stdout",
          "text": [
            "(10, 1)\n",
            "()\n"
          ]
        }
      ]
    },
    {
      "cell_type": "code",
      "source": [
        "r2=r2_score(y_test,r.predict(X_test))\n",
        "r.predict(X_test).shape"
      ],
      "metadata": {
        "colab": {
          "base_uri": "https://localhost:8080/"
        },
        "id": "mY5grauBmlr5",
        "outputId": "82e95599-b6a1-448c-e336-77984aa4df4f"
      },
      "execution_count": 104,
      "outputs": [
        {
          "output_type": "execute_result",
          "data": {
            "text/plain": [
              "(89, 1)"
            ]
          },
          "metadata": {},
          "execution_count": 104
        }
      ]
    },
    {
      "cell_type": "code",
      "source": [
        "X_test.shape"
      ],
      "metadata": {
        "colab": {
          "base_uri": "https://localhost:8080/"
        },
        "id": "8JclXiLHmbB4",
        "outputId": "edb3a711-ccc6-44b2-af55-7f2629a61785"
      },
      "execution_count": 105,
      "outputs": [
        {
          "output_type": "execute_result",
          "data": {
            "text/plain": [
              "(89, 10)"
            ]
          },
          "metadata": {},
          "execution_count": 105
        }
      ]
    },
    {
      "cell_type": "code",
      "source": [
        "r2"
      ],
      "metadata": {
        "colab": {
          "base_uri": "https://localhost:8080/"
        },
        "id": "rrRCteennsu-",
        "outputId": "33b086d3-cecb-4307-ebdb-7f2e0d7d6cdd"
      },
      "execution_count": 106,
      "outputs": [
        {
          "output_type": "execute_result",
          "data": {
            "text/plain": [
              "0.3894952478735423"
            ]
          },
          "metadata": {},
          "execution_count": 106
        }
      ]
    }
  ]
}