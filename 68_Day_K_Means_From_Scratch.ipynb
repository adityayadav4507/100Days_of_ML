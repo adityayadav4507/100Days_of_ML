{
  "nbformat": 4,
  "nbformat_minor": 0,
  "metadata": {
    "colab": {
      "provenance": [],
      "authorship_tag": "ABX9TyPVs6QGfqGGeKUZy2xhTrKd",
      "include_colab_link": true
    },
    "kernelspec": {
      "name": "python3",
      "display_name": "Python 3"
    },
    "language_info": {
      "name": "python"
    }
  },
  "cells": [
    {
      "cell_type": "markdown",
      "metadata": {
        "id": "view-in-github",
        "colab_type": "text"
      },
      "source": [
        "<a href=\"https://colab.research.google.com/github/adityayadav4507/100Days_of_ML/blob/main/68_Day_K_Means_From_Scratch.ipynb\" target=\"_parent\"><img src=\"https://colab.research.google.com/assets/colab-badge.svg\" alt=\"Open In Colab\"/></a>"
      ]
    },
    {
      "cell_type": "code",
      "execution_count": 527,
      "metadata": {
        "id": "KOHoqIHUah0p"
      },
      "outputs": [],
      "source": [
        "import numpy as np\n",
        "import pandas as pd\n",
        "import matplotlib.pyplot as plt\n",
        "import seaborn as sns\n",
        "import warnings\n",
        "warnings.filterwarnings('ignore')\n",
        "\n",
        "from sklearn.datasets import make_blobs\n",
        "\n"
      ]
    },
    {
      "cell_type": "code",
      "source": [],
      "metadata": {
        "id": "Fd6rwVbwPhS3"
      },
      "execution_count": 527,
      "outputs": []
    },
    {
      "cell_type": "code",
      "source": [
        "centroids=[(-5,-5),(5,-5),(3,4)]\n",
        "std=[1,1,1]"
      ],
      "metadata": {
        "id": "ouARiJksbfeQ"
      },
      "execution_count": 528,
      "outputs": []
    },
    {
      "cell_type": "code",
      "source": [
        "X,y=make_blobs(n_samples=1000,n_features=2,centers=centroids,cluster_std=std)\n",
        "X"
      ],
      "metadata": {
        "colab": {
          "base_uri": "https://localhost:8080/"
        },
        "id": "NXF7m7XrbtwF",
        "outputId": "ddd4e5ba-b9cb-4e3d-80e9-980985b1d994"
      },
      "execution_count": 529,
      "outputs": [
        {
          "output_type": "execute_result",
          "data": {
            "text/plain": [
              "array([[ 3.48219709, -5.37224346],\n",
              "       [ 4.10527439,  5.63568194],\n",
              "       [ 2.83895889,  1.8579674 ],\n",
              "       ...,\n",
              "       [ 0.69191067,  4.15764046],\n",
              "       [ 5.46115781, -4.31403525],\n",
              "       [-5.64458468, -5.43630374]])"
            ]
          },
          "metadata": {},
          "execution_count": 529
        }
      ]
    },
    {
      "cell_type": "code",
      "source": [
        "import random"
      ],
      "metadata": {
        "id": "JE_qvby2bzTR"
      },
      "execution_count": 530,
      "outputs": []
    },
    {
      "cell_type": "markdown",
      "source": [
        "# class of K-Means fron scratch"
      ],
      "metadata": {
        "id": "woXw4vAKb0Kw"
      }
    },
    {
      "cell_type": "code",
      "source": [
        "class k_means:\n",
        "   def __init__(self,n_clusters=2,max_iter=100):\n",
        "    self.n_clusters=n_clusters\n",
        "    self.max_iter=max_iter\n",
        "    self.centroids=None\n",
        "\n",
        "   def fit_pred(self,X):\n",
        "     # intilize centroids\n",
        "     row_index=np.random.randint(0,X.shape[0],self.n_clusters) # select random rows 1row=1point\n",
        "     self.centroids = X[row_index]\n",
        "\n",
        "     for i in range(self.max_iter):\n",
        "      # assign clusters\n",
        "      cluster_group=self.assign_cluster(X)\n",
        "      # move centroids\n",
        "      old_centroids=self.centroids\n",
        "      self.centroids=self.move_centriod(X,cluster_group)\n",
        "      # finsih\n",
        "      if np.allclose(old_centroids,self.centroids):\n",
        "        break\n",
        "     return np.array(cluster_group)\n",
        "\n",
        "   def move_centriod(Self,X,cluster_group):\n",
        "      new_centreroid=[] # list\n",
        "\n",
        "      type=np.unique(cluster_group)\n",
        "      for k in type:\n",
        "        new_centre=np.mean(X[cluster_group==k],axis=0) # collect all values which assign as 0\n",
        "        new_centreroid.append(new_centre)\n",
        "\n",
        "      return new_centreroid\n",
        "\n",
        "   def assign_cluster(self,X):\n",
        "        assign_c=[]\n",
        "\n",
        "        # calculate distance\n",
        "        for j in range(X.shape[0]):\n",
        "          distance = np.sqrt(np.sum((X[j] - self.centroids)**2, axis=1)) # it give array of size =centriods , distance of a point j from all centriods\n",
        "\n",
        "          index=np.argmin(distance) # give index of minimum distance\n",
        "          assign_c.append(index)\n",
        "\n",
        "        return assign_c\n",
        ""
      ],
      "metadata": {
        "id": "tEFW9UMOb4Rw"
      },
      "execution_count": 531,
      "outputs": []
    },
    {
      "cell_type": "code",
      "source": [
        "km=k_means(n_clusters=3)\n",
        "y_pred=km.fit_pred(X)"
      ],
      "metadata": {
        "id": "uHNG-uGRch0X"
      },
      "execution_count": 532,
      "outputs": []
    },
    {
      "cell_type": "code",
      "source": [
        "plt.scatter(X[y_pred==0,0],X[y_pred==0,1],c='red')\n",
        "plt.scatter(X[y_pred==1,0],X[y_pred==1,1],c='blue')\n",
        "plt.scatter(X[y_pred==2,0],X[y_pred==2,1],c='green')"
      ],
      "metadata": {
        "colab": {
          "base_uri": "https://localhost:8080/",
          "height": 448
        },
        "id": "X4v-D0wnLzVf",
        "outputId": "6a86281c-b58b-473e-b255-e87a5c070c53"
      },
      "execution_count": 533,
      "outputs": [
        {
          "output_type": "execute_result",
          "data": {
            "text/plain": [
              "<matplotlib.collections.PathCollection at 0x7ec2f8ffee10>"
            ]
          },
          "metadata": {},
          "execution_count": 533
        },
        {
          "output_type": "display_data",
          "data": {
            "text/plain": [
              "<Figure size 640x480 with 1 Axes>"
            ],
            "image/png": "[encoded data removed]"
          },
          "metadata": {}
        }
      ]
    }
  ]
}